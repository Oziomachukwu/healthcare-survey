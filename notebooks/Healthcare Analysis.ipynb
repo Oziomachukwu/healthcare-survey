{
 "cells": [
  {
   "cell_type": "code",
   "execution_count": null,
   "id": "b2069e1a",
   "metadata": {},
   "outputs": [],
   "source": [
    "import pandas as pd\n",
    "import matplotlib.pyplot as plt\n",
    "import os\n",
    "\n",
    "# Load data\n",
    "df = pd.read_csv(\"../data/survey_data.csv\")\n",
    "\n",
    "# Create charts directory\n",
    "os.makedirs(\"../app/static/charts\", exist_ok=True)\n"
   ]
  },
  {
   "cell_type": "code",
   "execution_count": null,
   "id": "495f316f",
   "metadata": {},
   "outputs": [],
   "source": [
    "# 1. Top Ages by Income\n",
    "plt.figure(figsize=(12,6))\n",
    "df.groupby('Age')['Income'].mean().nlargest(10).plot.bar()\n",
    "plt.title(\"Top 10 Ages by Average Income\")\n",
    "plt.savefig(\"../app/static/charts/top_ages.png\", bbox_inches='tight')\n",
    "plt.close()"
   ]
  },
  {
   "cell_type": "code",
   "execution_count": null,
   "id": "ea5a2025",
   "metadata": {},
   "outputs": [],
   "source": [
    "# 2. Gender Spending Distribution\n",
    "gender_spending = df.groupby('Gender')[['Utilities','Entertainment',\n",
    "                                      'School Fees','Shopping','Healthcare']].mean()\n",
    "gender_spending.plot(kind='bar', stacked=True, figsize=(14,8))\n",
    "plt.title(\"Average Spending by Gender\")\n",
    "plt.savefig(\"../app/static/charts/gender_spending.png\", bbox_inches='tight')\n",
    "plt.close()"
   ]
  }
 ],
 "metadata": {
  "language_info": {
   "name": "python"
  }
 },
 "nbformat": 4,
 "nbformat_minor": 5
}
