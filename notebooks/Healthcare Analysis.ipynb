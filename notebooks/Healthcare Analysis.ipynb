{
 "cells": [
  {
   "cell_type": "markdown",
   "id": "22f9a62d",
   "metadata": {},
   "source": [
    "# %% [markdown]\n",
    "# # Healthcare Spending Analysis\n",
    "# **Notebook Purpose**: Analyze survey data from MongoDB and generate visualizations\n",
    "\n",
    "# %% [markdown]\n",
    "# ## 1. Setup Environment\n",
    "\n",
    "# %%\n"
   ]
  },
  {
   "cell_type": "code",
   "execution_count": 3,
   "id": "495f316f",
   "metadata": {},
   "outputs": [],
   "source": [
    "\n",
    "# Cell 1: Install required packages\n",
    "import pandas as pd\n",
    "from pymongo import MongoClient\n",
    "import matplotlib.pyplot as plt\n",
    "from dotenv import load_dotenv\n",
    "import os\n"
   ]
  },
  {
   "cell_type": "code",
   "execution_count": 4,
   "id": "ea5a2025",
   "metadata": {},
   "outputs": [
    {
     "name": "stdout",
     "output_type": "stream",
     "text": [
      "Connected to MongoDB. Collection size: 6\n"
     ]
    }
   ],
   "source": [
    "# Cell 2: Connect to MongoDB\n",
    "# Load environment variables from .env file\n",
    "load_dotenv('../.env')  # Load from parent directory\n",
    "\n",
    "client = MongoClient(os.getenv('MONGO_URI'))\n",
    "db = client.healthcare_survey\n",
    "collection = db.users\n",
    "\n",
    "print(\"Connected to MongoDB. Collection size:\", collection.count_documents({}))"
   ]
  },
  {
   "cell_type": "markdown",
   "id": "a72a9863",
   "metadata": {},
   "source": [
    "# %% [markdown]\n",
    "# ## 3. Data Loading & Processing\n",
    "\n",
    "# %%"
   ]
  },
  {
   "cell_type": "code",
   "execution_count": null,
   "id": "e7f123e3",
   "metadata": {},
   "outputs": [],
   "source": [
    "# Cell 3: Define User Class and Load Data\n",
    "class User:\n",
    "    def __init__(self, data):\n",
    "        self.age = data.get('age')\n",
    "        self.gender = data.get('gender')\n",
    "        self.income = data.get('income')\n",
    "        self.expenses = data.get('expenses', {})\n",
    "    \n",
    "    def to_dict(self):\n",
    "        return {\n",
    "            'age': self.age,\n",
    "            'gender': self.gender,\n",
    "            'income': self.income,\n",
    "            **self.expenses\n",
    "        }\n",
    "\n",
    "# Load data from MongoDB\n",
    "users = [User(user).to_dict() for user in collection.find()]\n",
    "df = pd.DataFrame(users)\n",
    "\n",
    "# Clean data\n",
    "df.rename(columns={\n",
    "    'utilities': 'Utilities',\n",
    "    'entertainment': 'Entertainment',\n",
    "    'school_fees': 'School Fees',\n",
    "    'shopping': 'Shopping',\n",
    "    'healthcare': 'Healthcare'\n",
    "}, inplace=True)\n",
    "\n",
    "print(\"Data loaded successfully. First 5 rows:\")\n",
    "df.head()"
   ]
  },
  {
   "cell_type": "markdown",
   "id": "5944e6c0",
   "metadata": {},
   "source": [
    "# %% [markdown]\n",
    "# ## 4. Data Visualization\n",
    "\n",
    "# %%"
   ]
  },
  {
   "cell_type": "code",
   "execution_count": null,
   "id": "8fcc199e",
   "metadata": {},
   "outputs": [],
   "source": [
    "# Cell 4: Top Ages by Income\n",
    "plt.figure(figsize=(12, 6))\n",
    "top_ages = df.groupby('age')['income'].mean().nlargest(10)\n",
    "top_ages.plot(kind='bar', color='#1f77b4')\n",
    "plt.title('Top 10 Ages by Average Income', fontsize=14)\n",
    "plt.xlabel('Age', fontsize=12)\n",
    "plt.ylabel('Average Income ($)', fontsize=12)\n",
    "plt.xticks(rotation=45)\n",
    "plt.grid(axis='y', linestyle='--', alpha=0.7)\n",
    "plt.tight_layout()\n",
    "plt.savefig('../app/static/charts/top_ages.png', dpi=300)\n",
    "plt.show()"
   ]
  },
  {
   "cell_type": "code",
   "execution_count": null,
   "id": "00fffdb2",
   "metadata": {},
   "outputs": [],
   "source": [
    "# Cell 5: Gender Spending Distribution\n",
    "gender_spending = df.groupby('gender')[['Utilities', 'Entertainment', \n",
    "                                      'School Fees', 'Shopping', 'Healthcare']].mean()\n",
    "\n",
    "plt.figure(figsize=(14, 8))\n",
    "gender_spending.plot(kind='bar', stacked=True, colormap='Pastel2')\n",
    "plt.title('Average Spending by Gender', fontsize=14)\n",
    "plt.xlabel('Gender', fontsize=12)\n",
    "plt.ylabel('Total Spending ($)', fontsize=12)\n",
    "plt.xticks(rotation=0)\n",
    "plt.legend(title='Category', bbox_to_anchor=(1.05, 1), loc='upper left')\n",
    "plt.grid(axis='y', linestyle='--', alpha=0.7)\n",
    "plt.tight_layout()\n",
    "plt.savefig('../app/static/charts/gender_spending.png', dpi=300)\n",
    "plt.show()"
   ]
  },
  {
   "cell_type": "code",
   "execution_count": null,
   "id": "05b0dfdd",
   "metadata": {},
   "outputs": [],
   "source": [
    "# Cell 6: Save Processed Data to CSV\n",
    "output_dir = '../data'\n",
    "os.makedirs(output_dir, exist_ok=True)\n",
    "\n",
    "csv_path = os.path.join(output_dir, 'processed_healthcare_data.csv')\n",
    "df.to_csv(csv_path, index=False)\n",
    "\n",
    "print(f\"Data exported to {csv_path}\")\n",
    "print(\"Final DataFrame Summary:\")\n",
    "df.describe()"
   ]
  }
 ],
 "metadata": {
  "kernelspec": {
   "display_name": ".venv",
   "language": "python",
   "name": "python3"
  },
  "language_info": {
   "codemirror_mode": {
    "name": "ipython",
    "version": 3
   },
   "file_extension": ".py",
   "mimetype": "text/x-python",
   "name": "python",
   "nbconvert_exporter": "python",
   "pygments_lexer": "ipython3",
   "version": "3.13.3"
  }
 },
 "nbformat": 4,
 "nbformat_minor": 5
}
